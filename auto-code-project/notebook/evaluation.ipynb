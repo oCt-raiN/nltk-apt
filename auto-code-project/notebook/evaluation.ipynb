{
 "cells": [
  {
   "cell_type": "markdown",
   "id": "9c068713",
   "metadata": {},
   "source": [
    "# Evaluation Notebook\n",
    "Evaluate model predictions, test pass rate, and CodeBLEU."
   ]
  }
 ],
 "metadata": {
  "language_info": {
   "name": "python"
  }
 },
 "nbformat": 4,
 "nbformat_minor": 5
}
